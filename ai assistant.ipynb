{
 "cells": [
  {
   "cell_type": "code",
   "execution_count": 24,
   "id": "70955f9d-a7ce-4858-8c63-b5a79dbca05e",
   "metadata": {},
   "outputs": [],
   "source": [
    "# %pip uninstall protobuf\n",
    "# %pip install protobuf==3.20.3 --default-timeout=100\n",
    "# %pip install -U -q \"google-generativeai>=0.8.3\"\n",
    "# %pip install -U -q \"google-generativeai>=0.8.3\" chromadb"
   ]
  },
  {
   "cell_type": "code",
   "execution_count": 1,
   "id": "8bd17396-f8fb-41a9-abab-87290a9c5a4c",
   "metadata": {},
   "outputs": [
    {
     "name": "stderr",
     "output_type": "stream",
     "text": [
      "C:\\Users\\MSI\\AppData\\Local\\Packages\\PythonSoftwareFoundation.Python.3.11_qbz5n2kfra8p0\\LocalCache\\local-packages\\Python311\\site-packages\\tqdm\\auto.py:21: TqdmWarning: IProgress not found. Please update jupyter and ipywidgets. See https://ipywidgets.readthedocs.io/en/stable/user_install.html\n",
      "  from .autonotebook import tqdm as notebook_tqdm\n"
     ]
    }
   ],
   "source": [
    "import google.generativeai as genai\n",
    "from IPython.display import HTML, Markdown, display\n",
    "import google.generativeai as genai\n",
    "from IPython.display import Markdown\n",
    "from dotenv import load_dotenv\n",
    "import os"
   ]
  },
  {
   "cell_type": "code",
   "execution_count": null,
   "id": "0aa8eb53",
   "metadata": {},
   "outputs": [],
   "source": [
    "load_dotenv() \n",
    "api_key = os.getenv(\"API_KEY\")\n",
    "secret = os.getenv(\"SECRET\")\n",
    "\n",
    "print(api_key, secret)"
   ]
  },
  {
   "cell_type": "code",
   "execution_count": 26,
   "id": "7cfc3eeb-5b94-4298-8d7f-0b7c3de9792a",
   "metadata": {},
   "outputs": [],
   "source": [
    "genai.configure(api_key=GOOGLE_API_KEY)"
   ]
  },
  {
   "cell_type": "code",
   "execution_count": 27,
   "id": "4e7fcc91-0aae-4070-a272-d2afe1816ec5",
   "metadata": {},
   "outputs": [
    {
     "name": "stdout",
     "output_type": "stream",
     "text": [
      "Machine learning (ML) is a type of artificial intelligence (AI) that allows software applications to become more accurate in predicting outcomes without being explicitly programmed to do so.  It does this by analyzing large amounts of data, identifying patterns, and learning from them to make predictions or decisions.  Think of it as teaching computers to learn from experience instead of relying solely on pre-programmed rules.\n",
      "\n"
     ]
    }
   ],
   "source": [
    "flash = genai.GenerativeModel('gemini-1.5-flash')\n",
    "response = flash.generate_content(\"explain ml shortly\")\n",
    "print(response.text)"
   ]
  },
  {
   "cell_type": "code",
   "execution_count": 28,
   "id": "b86c6cd2-2f23-43d8-a117-f2c227f42ebf",
   "metadata": {},
   "outputs": [],
   "source": [
    "DOCUMENT1 = \"Our stickers are designed with high-quality, durable materials that are both water-resistant and fade-resistant, making them perfect for indoor and outdoor use. We offer a wide variety of styles, shapes, and finishes, including matte, glossy, and transparent options. Whether you're looking for personalized designs, logos, or artwork, our team ensures vibrant colors and sharp details in every sticker. Plus, all our stickers are easy to apply and can be removed without leaving residue, perfect for temporary or permanent use on laptops, bottles, cars, and more!\"\n",
    "DOCUMENT2 = 'Creating your custom sticker is simple and flexible! You can upload your own design, artwork, or logo directly on our website, or choose from a range of templates and add personalized text and images. Our easy-to-use design tool allows you to preview and adjust the size, colors, and finish before placing your order. If you need any help with design adjustments or have specific customization requests, our support team is here to guide you every step of the way, ensuring your stickers turn out exactly as you envisioned.'\n",
    "DOCUMENT3 = \"Once you’ve finalized your design, our production team gets to work right away. Orders are typically processed within 3-5 business days, with options for expedited shipping if you need them sooner. We ship worldwide and offer free shipping on bulk orders! After placing your order, you'll receive tracking information to follow your stickers’ journey from our facility to your doorstep. If you have any questions about your order status, delivery time, or need assistance with anything else, just let us know—we’re here to help!\"\n",
    "DOCUMENT4 = \"the price of dilevery is 5DT for Tunis, 3DT for sousse and 20DT everywhere else\"\n",
    "\n",
    "documents = [DOCUMENT1, DOCUMENT2, DOCUMENT3, DOCUMENT4]"
   ]
  },
  {
   "cell_type": "code",
   "execution_count": 29,
   "id": "98c444ea-4ca3-456f-920b-bb3a73f52b67",
   "metadata": {},
   "outputs": [],
   "source": [
    "from chromadb import Documents, EmbeddingFunction, Embeddings\n",
    "from google.api_core import retry\n",
    "\n",
    "\n",
    "class GeminiEmbeddingFunction(EmbeddingFunction):\n",
    "    document_mode = True\n",
    "\n",
    "    def __call__(self, input: Documents) -> Embeddings:\n",
    "        if self.document_mode:\n",
    "            embedding_task = \"retrieval_document\"\n",
    "        else:\n",
    "            embedding_task = \"retrieval_query\"\n",
    "\n",
    "        retry_policy = {\"retry\": retry.Retry(predicate=retry.if_transient_error)}\n",
    "\n",
    "        response = genai.embed_content(\n",
    "            model=\"models/text-embedding-004\",\n",
    "            content=input,\n",
    "            task_type=embedding_task,\n",
    "            request_options=retry_policy,\n",
    "        )\n",
    "        return response[\"embedding\"]"
   ]
  },
  {
   "cell_type": "code",
   "execution_count": 30,
   "id": "57b78692-4d6f-41ea-ab9e-36eba1da1066",
   "metadata": {},
   "outputs": [
    {
     "name": "stdout",
     "output_type": "stream",
     "text": [
      "[\"Our stickers are designed with high-quality, durable materials that are both water-resistant and fade-resistant, making them perfect for indoor and outdoor use. We offer a wide variety of styles, shapes, and finishes, including matte, glossy, and transparent options. Whether you're looking for personalized designs, logos, or artwork, our team ensures vibrant colors and sharp details in every sticker. Plus, all our stickers are easy to apply and can be removed without leaving residue, perfect for temporary or permanent use on laptops, bottles, cars, and more!\", 'Creating your custom sticker is simple and flexible! You can upload your own design, artwork, or logo directly on our website, or choose from a range of templates and add personalized text and images. Our easy-to-use design tool allows you to preview and adjust the size, colors, and finish before placing your order. If you need any help with design adjustments or have specific customization requests, our support team is here to guide you every step of the way, ensuring your stickers turn out exactly as you envisioned.', \"Once you’ve finalized your design, our production team gets to work right away. Orders are typically processed within 3-5 business days, with options for expedited shipping if you need them sooner. We ship worldwide and offer free shipping on bulk orders! After placing your order, you'll receive tracking information to follow your stickers’ journey from our facility to your doorstep. If you have any questions about your order status, delivery time, or need assistance with anything else, just let us know—we’re here to help!\", 'the price of dilevery is 5DT for Tunis, 3DT for sousse and 20DT everywhere else']\n"
     ]
    },
    {
     "name": "stderr",
     "output_type": "stream",
     "text": [
      "Add of existing embedding ID: 0\n",
      "Add of existing embedding ID: 1\n",
      "Add of existing embedding ID: 2\n",
      "Insert of existing embedding ID: 0\n",
      "Insert of existing embedding ID: 1\n",
      "Insert of existing embedding ID: 2\n"
     ]
    }
   ],
   "source": [
    "import chromadb\n",
    "\n",
    "DB_NAME = \"googlecardb\"\n",
    "embed_fn = GeminiEmbeddingFunction()\n",
    "embed_fn.document_mode = True\n",
    "\n",
    "chroma_client = chromadb.Client()\n",
    "db = chroma_client.get_or_create_collection(name=DB_NAME, embedding_function=embed_fn)\n",
    "\n",
    "print(documents)\n",
    "\n",
    "db.add(documents=documents, ids=[str(i) for i in range(len(documents))])"
   ]
  },
  {
   "cell_type": "code",
   "execution_count": 31,
   "id": "2787524a-072e-4a35-a41a-0d64a0b620d7",
   "metadata": {},
   "outputs": [
    {
     "data": {
      "text/markdown": [
       "the price of dilevery is 5DT for Tunis, 3DT for sousse and 20DT everywhere else"
      ],
      "text/plain": [
       "<IPython.core.display.Markdown object>"
      ]
     },
     "execution_count": 31,
     "metadata": {},
     "output_type": "execute_result"
    }
   ],
   "source": [
    "embed_fn.document_mode = False\n",
    "\n",
    "query = \"how much does the dilevery cost for Kasserine?\"\n",
    "\n",
    "result = db.query(query_texts=[query], n_results=1)\n",
    "[[passage]] = result[\"documents\"]\n",
    "\n",
    "Markdown(passage)"
   ]
  },
  {
   "cell_type": "code",
   "execution_count": 32,
   "id": "f0295d4c-12e3-4767-a162-0129bfe37ca7",
   "metadata": {},
   "outputs": [],
   "source": [
    "passage_oneline = passage.replace(\"\\n\", \" \")\n",
    "query_oneline = query.replace(\"\\n\", \" \")\n",
    "\n",
    "prompt = f''' you are an ai assistant for a website where we sell stickers, the queries might be in arabic or english\n",
    "respond with the same language as the question. you will recieve the question and the text in the database that contains the \n",
    "answer. formulate a precise short response, dont response to any question that is not related to the business of \n",
    "selling stickers.\n",
    "\n",
    "QUESTION : {query_oneline}\n",
    "PASSAGE : {passage_oneline}\n",
    "'''"
   ]
  },
  {
   "cell_type": "code",
   "execution_count": 33,
   "id": "1605e0a8",
   "metadata": {},
   "outputs": [
    {
     "data": {
      "text/markdown": [
       "The delivery cost to Kasserine is 20DT.\n"
      ],
      "text/plain": [
       "<IPython.core.display.Markdown object>"
      ]
     },
     "execution_count": 33,
     "metadata": {},
     "output_type": "execute_result"
    }
   ],
   "source": [
    "model = genai.GenerativeModel(\"gemini-1.5-flash-latest\")\n",
    "answer = model.generate_content(prompt)\n",
    "Markdown(answer.text)"
   ]
  }
 ],
 "metadata": {
  "kernelspec": {
   "display_name": "Python 3",
   "language": "python",
   "name": "python3"
  },
  "language_info": {
   "codemirror_mode": {
    "name": "ipython",
    "version": 3
   },
   "file_extension": ".py",
   "mimetype": "text/x-python",
   "name": "python",
   "nbconvert_exporter": "python",
   "pygments_lexer": "ipython3",
   "version": "3.11.9"
  }
 },
 "nbformat": 4,
 "nbformat_minor": 5
}
